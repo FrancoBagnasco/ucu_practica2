{
 "cells": [
  {
   "cell_type": "markdown",
   "metadata": {
    "collapsed": false
   },
   "source": [
    "# Práctica 2 - Data Mining, por Franco Bagnasco\n",
    "\n",
    "Para esta tarea, veremos los datos de vacunas de 2017. El archivo con estos datos está en `/data/NISPUF17.csv`. Para conocer los nombres de las variables de los datos tienes disponible una guía de usuarios de datos en `/data/NIS-PUF17-DUG.pdf`."
   ]
  },
  {
   "cell_type": "markdown",
   "metadata": {
    "collapsed": false
   },
   "source": [
    "## Pregunta 1\n",
    "\n",
    "Escribe una función llamada `proportion_of_education` que devuelva la proporción de niños en el dataset que tuvieron una madre con los niveles de educación: igual a menor de secundaria (<12), secundaria (12), mayor que secundaria pero sin ser universitaria graduada (>12) y con título universitario.\n",
    "\n",
    "Esta función debería devolver un diccionario en forma de (use los números correctos, no redondee los números):\n",
    "\n",
    "```python\n",
    "{\"menor que  secundaria\": 0.2,\n",
    " \"secundaria\": 0.4,\n",
    " \"mayor a secundaria pero no universitaria\": 0.2,\n",
    " \"universitaria\": 0.2}\n",
    "```\n"
   ]
  },
  {
   "cell_type": "code",
   "execution_count": 75,
   "metadata": {},
   "outputs": [
    {
     "name": "stdout",
     "output_type": "stream",
     "text": [
      "{'mayor a secundaria pero no universitaria': 0.24588090637625154, 'menor que secundaria': 0.10202002459160373, 'secundaria': 0.172352011241876, 'universitaria': 0.47974705779026877}\n"
     ]
    }
   ],
   "source": [
    "import pandas as pd\n",
    "\n",
    "def proportion_of_education():\n",
    "    df = pd.read_csv(\"../data/NISPUF17.csv\")\n",
    "\n",
    "    # Filtramos el DataFrame para obtener solo la columna 'EDUC1' (nivel de educación de la madre)\n",
    "    education_column = df['EDUC1'].dropna()\n",
    "\n",
    "    # Creamos un diccionario para dividir los valores de EDUC1 en las 4 categorías\n",
    "    education_mapping = {\n",
    "        1: \"menor que secundaria\",\n",
    "        2: \"secundaria\",\n",
    "        3: \"mayor a secundaria pero no universitaria\",\n",
    "        4: \"universitaria\"\n",
    "    }\n",
    "\n",
    "    # Usamos la función map para asignar los valores de EDUC1 a las categorías\n",
    "    education_column = education_column.map(education_mapping)\n",
    "\n",
    "    # Calculamos las proporciones para cada categoría de educación\n",
    "    education_counts = education_column.value_counts(normalize=True).sort_index()\n",
    "\n",
    "    return education_counts.to_dict()\n",
    "\n",
    "# Llamar a la función y mostrar los resultados\n",
    "result = proportion_of_education()\n",
    "print(result)"
   ]
  },
  {
   "cell_type": "markdown",
   "metadata": {
    "collapsed": false
   },
   "source": [
    "## Pregunta 2\n",
    "\n",
    "Exploremos la relación entre ser alimentado con leche materna (fed breast milk) cuando era niño y recibir una vacuna contra la influenza estacional (seasonal influenza) de un proveedor de atención médica.\n",
    "\n",
    "Devuelva una tupla del número promedio de vacunas contra la influenza para aquellos niños que sabemos que recibieron leche materna cuando eran niños y aquellos que sabemos que no."
   ]
  },
  {
   "cell_type": "code",
   "execution_count": 76,
   "metadata": {},
   "outputs": [
    {
     "name": "stdout",
     "output_type": "stream",
     "text": [
      "(1.8799187420058687, 1.5963945918878317)\n",
      "En promedio, los niños que recibieron leche materna fueron vacunados 1.88 veces contra la influenza estacional, mientras que los niños que no recibieron leche materna fueron vacunados 1.60 veces.\n"
     ]
    }
   ],
   "source": [
    "import pandas as pd\n",
    "\n",
    "def average_influenza_doses():\n",
    "    df = pd.read_csv('../data/NISPUF17.csv')\n",
    "\n",
    "    # Filtrar las columnas relevantes y eliminar filas con valores nulos\n",
    "    filtrado = df[['CBF_01', 'P_NUMFLU']].dropna()\n",
    "\n",
    "    # Calcular el promedio de dosis de vacuna para el grupo que recibió leche materna\n",
    "    promedio_leche_materna = filtrado[filtrado['CBF_01'] == 1]['P_NUMFLU'].mean()\n",
    "\n",
    "    # Calcular el promedio de dosis de vacuna para el grupo que no recibió leche materna\n",
    "    promedio_no_leche_materna = filtrado[filtrado['CBF_01'] == 2]['P_NUMFLU'].mean()\n",
    "\n",
    "    # Interpretación de los resultados\n",
    "    interpretacion = \"En promedio, los niños que recibieron leche materna fueron vacunados {:.2f} veces contra la influenza estacional, mientras que los niños que no recibieron leche materna fueron vacunados {:.2f} veces.\".format(promedio_leche_materna, promedio_no_leche_materna)\n",
    "    \n",
    "    # Devolver una tupla con los promedios calculados y la interpretación\n",
    "    return (promedio_leche_materna, promedio_no_leche_materna, interpretacion)\n",
    "\n",
    "# Llamar a la función y mostrar los resultados\n",
    "result = average_influenza_doses()\n",
    "print(result[:-1])\n",
    "print(result[-1]) # Interpretación de la tupla"
   ]
  },
  {
   "cell_type": "markdown",
   "metadata": {
    "collapsed": false
   },
   "source": [
    "# Pregunta 3\n",
    "\n",
    "Sería interesante ver si hay evidencia de un vínculo entre la efectividad de la vacuna y el sexo del niño.\n",
    "Calcule el ratio entre el número de niños que contrajeron varicela (chickenpox) pero que fueron vacunados contra ella (al menos una dosis) versus los que fueron vacunados y no contrajeron varicela.\n",
    "\n",
    "Devuelve los resultados por sexo.\n",
    "\n",
    "Esta función debería devolver un diccionario en forma de:\n",
    "\n",
    "```python\n",
    "{\"male\": 0.2, \"female\": 0.4}\n",
    "```\n",
    "\n",
    "Nota: Para ayudar en la verificación, el valor de chickenpox_by_sex()['female'] comienza con los dígitos 0.0077."
   ]
  },
  {
   "cell_type": "code",
   "execution_count": 77,
   "metadata": {
    "collapsed": false
   },
   "outputs": [
    {
     "name": "stdout",
     "output_type": "stream",
     "text": [
      "Diccionario de Ratios: {'male': 0.009675583380762664, 'female': 0.0077918259335489565}\n",
      "El porcentaje de niños que contrajeron varicela después de darse la vacuna es del 0.97% en los hombres y del 0.78% en las mujeres.\n"
     ]
    }
   ],
   "source": [
    "import pandas as pd\n",
    "\n",
    "def chickenpox_by_sex():\n",
    "    df = pd.read_csv('../data/NISPUF17.csv')\n",
    "\n",
    "    # Contar el número de niños que contrajeron varicela después de estar vacunados (HAD_CPOX=1) y los que fueron vacunados pero no contrajeron varicela (HAD_CPOX=2)\n",
    "    vaccinated_boys_with_chickenpox = len(df[(df['SEX'] == 1) & (df['P_NUMVRC'] >= 1) & (df['HAD_CPOX'] == 1)])\n",
    "    vaccinated_boys_without_chickenpox = len(df[(df['SEX'] == 1) & (df['P_NUMVRC'] >= 1) & (df['HAD_CPOX'] == 2)])\n",
    "\n",
    "    # Contar el número de niñas que contrajeron varicela después de estar vacunadas (HAD_CPOX=1) y las que fueron vacunadas pero no contrajeron varicela (HAD_CPOX=2)\n",
    "    vaccinated_girls_with_chickenpox = len(df[(df['SEX'] == 2) & (df['P_NUMVRC'] >= 1) & (df['HAD_CPOX'] == 1)])\n",
    "    vaccinated_girls_without_chickenpox = len(df[(df['SEX'] == 2) & (df['P_NUMVRC'] >= 1) & (df['HAD_CPOX'] == 2)])\n",
    "\n",
    "    # Calcular el ratio por género\n",
    "    ratio_by_sex = {\n",
    "        \"male\": vaccinated_boys_with_chickenpox / vaccinated_boys_without_chickenpox,\n",
    "        \"female\": vaccinated_girls_with_chickenpox / vaccinated_girls_without_chickenpox\n",
    "    }\n",
    "\n",
    "    # Imprimir el diccionario de ratios\n",
    "    print(\"Diccionario de Ratios:\", ratio_by_sex)\n",
    "    \n",
    "    # Interpretación de los resultados\n",
    "    interpretacion = \"El porcentaje de niños que contrajeron varicela después de darse la vacuna es del {:.2%} en los hombres y del {:.2%} en las mujeres.\"\n",
    "\n",
    "    return interpretacion.format(ratio_by_sex[\"male\"], ratio_by_sex[\"female\"])\n",
    "\n",
    "# Llamar a la función para obtener la interpretación\n",
    "interpretacion = chickenpox_by_sex()\n",
    "print(interpretacion) # Interpretación del diccionario"
   ]
  }
 ],
 "metadata": {
  "kernelspec": {
   "display_name": "Python 3",
   "language": "python",
   "name": "python3"
  },
  "language_info": {
   "codemirror_mode": {
    "name": "ipython",
    "version": 3
   },
   "file_extension": ".py",
   "mimetype": "text/x-python",
   "name": "python",
   "nbconvert_exporter": "python",
   "pygments_lexer": "ipython3",
   "version": "3.11.3"
  }
 },
 "nbformat": 4,
 "nbformat_minor": 0
}
